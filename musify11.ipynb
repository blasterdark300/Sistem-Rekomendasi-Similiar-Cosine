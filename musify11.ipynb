{
  "cells": [
    {
      "cell_type": "markdown",
      "metadata": {
        "id": "OyFhQVcKMEpx"
      },
      "source": [
        "# 🎧 **Laporan Proyek Machine Learning - Krismono Sadi**\n",
        "\n",
        "## 📌 Sistem Rekomendasi Lagu Spotify\n",
        "\n",
        "### 🔍 Sumber Data\n",
        "\n",
        "Dataset dikumpulkan melalui proses *scraping* menggunakan **Spotify Web API** resmi. Dokumentasi lengkap API dapat diakses melalui tautan berikut:\n",
        "\n",
        "👉 [Spotify Developer API](https://developer.spotify.com/documentation/web-api?directory=true)\n",
        "\n",
        "Dataset hasil *scraping* dapat diakses secara terbuka di Kaggle:\n",
        "🎵 [Kaggle Dataset - Spotify Music Cris](https://www.kaggle.com/datasets/krismonosadi/spotify-music-cris)\n",
        "\n",
        "\n",
        "---\n",
        "\n",
        "## 🎵 Domain Proyek: Sistem Rekomendasi Musik\n",
        "\n",
        "**Kategori Proyek**:\n",
        "\n",
        "* Recommender System\n",
        "* Information Retrieval\n",
        "* Content-Based Filtering\n",
        "* Machine Learning for Media & Entertainment\n",
        "\n",
        "**Penjelasan**:\n",
        "\n",
        "Proyek ini berada dalam domain sistem rekomendasi musik, yaitu cabang dari *Information Retrieval* dan *Machine Learning* yang berfokus pada pemberian rekomendasi lagu yang relevan kepada pengguna. Sistem ini menggunakan pendekatan **Content-Based Filtering**, yaitu memberikan rekomendasi berdasarkan kemiripan fitur lagu, seperti durasi dan popularitas.\n",
        "\n",
        "Ciri khas sistem ini:\n",
        "\n",
        "* Tidak bergantung pada data interaksi pengguna seperti *ratings*, *likes*, atau *play history*.\n",
        "* Rekomendasi diberikan berdasarkan fitur konten lagu itu sendiri.\n",
        "* Bukan termasuk dalam *Collaborative Filtering* karena tidak menggunakan *user profile*.\n",
        "\n",
        "---\n",
        "\n",
        "## 📖 **Project Overview**\n",
        "\n",
        "Sistem rekomendasi musik merupakan komponen penting dalam platform streaming audio digital seperti Spotify. Mengingat jutaan lagu tersedia, sistem ini berperan dalam membantu pengguna menemukan musik yang sesuai dengan preferensi mereka secara efisien.\n",
        "\n",
        "Pada proyek ini, dikembangkan sebuah sistem rekomendasi berbasis konten (**Content-Based Filtering**) yang menyarankan lagu-lagu mirip berdasarkan fitur numerik (contohnya: durasi) dan informasi terkait artis. Sistem ini tidak mengandalkan data eksplisit dari pengguna, sehingga proses rekomendasi sepenuhnya bergantung pada kesamaan konten antar lagu.\n",
        "\n",
        "---\n",
        "\n",
        "## 🧠 **Business Understanding**\n",
        "\n",
        "### 🎯 Problem Statements\n",
        "\n",
        "* Bagaimana merancang sistem rekomendasi yang mampu memberikan saran lagu yang relevan berdasarkan kemiripan fitur lagu?\n",
        "* Bagaimana mengevaluasi performa sistem rekomendasi tanpa adanya data interaksi pengguna seperti rating atau riwayat pemutaran?\n",
        "\n",
        "### ✅ Goals\n",
        "\n",
        "* Mengembangkan sistem rekomendasi **Top-N Lagu** menggunakan pendekatan **Content-Based Filtering**.\n",
        "* Melakukan evaluasi performa sistem dengan menggunakan metrik sederhana **Precision\\@K**, berdasarkan asumsi bahwa lagu dari artis yang sama dianggap relevan.\n",
        "\n",
        "### 💡 Solution Approach\n",
        "\n",
        "* **Content-Based Filtering**: Sistem dibangun menggunakan fitur numerik dari lagu seperti `duration_ms`. Fitur ini dinormalisasi menggunakan **MinMaxScaler** sebelum digunakan dalam perhitungan kemiripan menggunakan **Cosine Similarity**.\n",
        "* **Evaluasi Relevansi**: Karena tidak tersedia data eksplisit dari pengguna, lagu dari **artis yang sama** diasumsikan sebagai lagu relevan, dan pendekatan ini digunakan untuk menghitung **Precision\\@K**.\n",
        "\n",
        "---\n",
        "\n",
        "Jika Anda menginginkan, saya juga dapat melanjutkan perbaikan bagian selanjutnya seperti **Data Preparation**, **Modeling**, atau **Evaluation**.\n"
      ]
    },
    {
      "cell_type": "markdown",
      "metadata": {
        "id": "fAAxtOVx-7xY"
      },
      "source": [
        "# 1. Import Library"
      ]
    },
    {
      "cell_type": "markdown",
      "metadata": {
        "id": "oRSUTVb0MEp4"
      },
      "source": [
        "# Penjelasan:\n",
        "Pada tahap ini, kita mengimpor pustaka-pustaka yang dibutuhkan, seperti pandas untuk manipulasi data,\n",
        "matplotlib dan seaborn untuk visualisasi, serta sklearn untuk preprocessing dan evaluasi model."
      ]
    },
    {
      "cell_type": "code",
      "execution_count": null,
      "metadata": {
        "id": "e3tfjFkm_C_3"
      },
      "outputs": [],
      "source": [
        "import os\n",
        "import random\n",
        "import shutil\n",
        "from pathlib import Path\n",
        "\n",
        "import numpy as np\n",
        "import pandas as pd\n",
        "import requests\n",
        "import zipfile\n",
        "\n",
        "import matplotlib.pyplot as plt\n",
        "import seaborn as sns\n",
        "\n",
        "import kagglehub\n",
        "\n",
        "from sklearn.preprocessing import MinMaxScaler\n",
        "from sklearn.metrics.pairwise import cosine_similarity\n",
        "from sklearn.metrics import precision_score  # untuk evaluasi precision@k"
      ]
    },
    {
      "cell_type": "markdown",
      "metadata": {
        "id": "EFt44DLH_C_4"
      },
      "source": [
        "# 2. Download dan Load Dataset"
      ]
    },
    {
      "cell_type": "markdown",
      "metadata": {
        "id": "J_cgZVh7_C_4"
      },
      "source": [
        "Mari Kita Download & Ekstrak Datasetnya Dari Kaggle\n"
      ]
    },
    {
      "cell_type": "code",
      "execution_count": null,
      "metadata": {
        "colab": {
          "base_uri": "https://localhost:8080/"
        },
        "id": "a2RXOK4-_C_4",
        "outputId": "cce4c5a5-ce95-450c-b4ce-0414d8681515"
      },
      "outputs": [
        {
          "name": "stdout",
          "output_type": "stream",
          "text": [
            "Berhasil mengunduh dataset ke: Musify_Rekomendasi_Musik\\spotify-music-cris.zip\n",
            "Berhasil ekstrak dataset ke: Musify_Rekomendasi_Musik\n"
          ]
        }
      ],
      "source": [
        "target_folder = Path(\"Musify_Rekomendasi_Musik\")\n",
        "target_folder.mkdir(parents=True, exist_ok=True)\n",
        "\n",
        "url = \"https://www.kaggle.com/api/v1/datasets/download/krismonosadi/spotify-music-cris\"\n",
        "zip_path = target_folder / \"spotify-music-cris.zip\"\n",
        "\n",
        "response = requests.get(url, stream=True)\n",
        "\n",
        "if response.status_code == 200:\n",
        "    with open(zip_path, \"wb\") as f:\n",
        "        for chunk in response.iter_content(chunk_size=8192):\n",
        "            f.write(chunk)\n",
        "    print(\"Berhasil mengunduh dataset ke:\", zip_path)\n",
        "\n",
        "    with zipfile.ZipFile(zip_path, 'r') as zip_ref:\n",
        "        zip_ref.extractall(target_folder)\n",
        "    print(\"Berhasil ekstrak dataset ke:\", target_folder)\n",
        "else:\n",
        "    print(\"Gagal mengunduh dataset, status code:\", response.status_code)\n",
        "    print(\"Kamu harus menggunakan kagglehub atau kaggle CLI dengan autentikasi token.\")"
      ]
    },
    {
      "cell_type": "markdown",
      "metadata": {
        "id": "fuKWJAY1_C_4"
      },
      "source": [
        "\n",
        "# Penjelasan:\n",
        "Dataset dimuat dari file CSV ke dalam DataFrame Pandas untuk mempermudah analisis dan pemrosesan data selanjutnya."
      ]
    },
    {
      "cell_type": "code",
      "execution_count": null,
      "metadata": {
        "colab": {
          "base_uri": "https://localhost:8080/",
          "height": 351
        },
        "id": "AYlfFHA-_C_4",
        "outputId": "454cecb8-9592-4655-9b5c-e2115d5717d2"
      },
      "outputs": [
        {
          "name": "stdout",
          "output_type": "stream",
          "text": [
            "Dataset berhasil dimuat dari: Musify_Rekomendasi_Musik/spotify_cris_music1.csv\n"
          ]
        }
      ],
      "source": [
        "path = \"Musify_Rekomendasi_Musik/spotify_cris_music1.csv\"\n",
        "df = pd.read_csv(path)\n",
        "print(f\"Dataset berhasil dimuat dari: {path}\")"
      ]
    },
    {
      "cell_type": "markdown",
      "metadata": {
        "id": "F435fosg_C_4"
      },
      "source": [
        "# **3. Data Understanding**"
      ]
    },
    {
      "cell_type": "markdown",
      "metadata": {
        "id": "m6VABYkJ_C_4"
      },
      "source": [
        "**Dataset ini telah diunggah secara publik di Kaggle agar dapat diakses langsung oleh siapa saja.**\n",
        "\n",
        "Dataset dikumpulkan secara mandiri melalui *scraping* menggunakan **Spotify Developer API**:\n",
        "\n",
        "👉 [Spotify Developer API](https://developer.spotify.com/documentation/web-api?directory=true)\n",
        "\n",
        "Dataset hasil *scraping* dapat diakses secara terbuka di Kaggle:\n",
        "🎵 [Kaggle Dataset - Spotify Music Cris](https://www.kaggle.com/datasets/krismonosadi/spotify-music-cris)\n",
        "\n",
        "Dataset berisi metadata lagu dari Spotify dengan 5.624 entri lagu, dan Data meliputi nama lagu, artis, popularitas, durasi, hingga tanggal rilis."
      ]
    },
    {
      "cell_type": "markdown",
      "metadata": {
        "id": "z1BmtUYWUNK1"
      },
      "source": [
        "Variabel utama (kolom) dan Deskripsi Fitur Dataset"
      ]
    },
    {
      "cell_type": "markdown",
      "metadata": {
        "id": "7KtF5I3GT4Nb"
      },
      "source": [
        "| **Kolom**         | **Deskripsi**                                                                                                                                                                                                                                                                                                                        |\n",
        "| ----------------- | ------------------------------------------------------------------------------------------------------------------------------------------------------------------------------------------------------------------------------------------------------------------------------------------------------------------------------------ |\n",
        "| **name**          | Nama lagu yang direkam pada dataset. Kolom ini tidak memiliki nilai kosong, sehingga semua lagu memiliki nama yang tercatat dengan lengkap.                                                                                                                                                                                          |\n",
        "| **artist**        | Nama artis atau band yang membawakan lagu tersebut. Tidak ada nilai kosong, sehingga setiap lagu terasosiasi dengan artis yang jelas.                                                                                                                                                                                                |\n",
        "| **album**         | Nama album tempat lagu tersebut termasuk. Semua lagu memiliki informasi album lengkap, tanpa nilai kosong. Memberikan konteks koleksi lagu yang dirilis bersama-sama.                                                                                                                                                                |\n",
        "| **popularity**    | Skor popularitas lagu, berupa nilai numerik antara 0 sampai 100. Kolom ini lengkap tanpa nilai kosong, mencerminkan popularitas lagu berdasarkan jumlah pemutaran, tren, dan engagement pengguna.                                                                                                                                    |\n",
        "| **explicit**      | Status lagu apakah mengandung konten eksplisit atau tidak. Nilainya lengkap tanpa kosong, berupa `True` atau `False`. Berguna untuk filtering berdasarkan usia atau kebijakan platform.                                                                                                                                              |\n",
        "| **release\\_date** | Tanggal resmi lagu tersebut dirilis ke publik, dengan format `YYYY-MM-DD` atau `YYYY`. Tidak ada nilai kosong, sehingga semua lagu memiliki tanggal rilis yang tercatat.                                                                                                                                                             |\n",
        "| **duration\\_ms**  | Durasi lagu dalam satuan milidetik (ms). Kolom ini lengkap tanpa nilai kosong. Untuk interpretasi yang lebih mudah, durasi bisa dikonversi ke menit dan detik (misal: 3 menit 45 detik).                                                                                                                                             |\n",
        "| **preview\\_url**  | URL menuju potongan singkat lagu (preview) yang dapat diputar secara online. Kolom ini memiliki banyak nilai kosong (5624), artinya sebagian besar lagu tidak memiliki link preview yang tersedia. Biasanya preview berdurasi sekitar 30 detik dan membantu pengguna mendengarkan sampel lagu sebelum memutuskan memutar lagu penuh. |\n"
      ]
    },
    {
      "cell_type": "markdown",
      "metadata": {
        "id": "XwfRAn0J_C_5"
      },
      "source": [
        "---\n",
        " Menampilkan 5 baris pertama"
      ]
    },
    {
      "cell_type": "code",
      "execution_count": null,
      "metadata": {
        "id": "PtMvxcHk_C_5",
        "outputId": "e20d6ac7-b93b-44bc-c464-039719879d1e"
      },
      "outputs": [
        {
          "name": "stdout",
          "output_type": "stream",
          "text": [
            "\n",
            "===== 5 Baris Pertama Dataset =====\n",
            "                name                               artist  \\\n",
            "0   ｢ごめん｣で済むなら恋などしない  白皇学院生徒会三人娘 starring 矢作紗友里＆中尾衣里＆浅野真澄   \n",
            "1         白皇学院生徒会不心得  白皇学院生徒会三人娘 starring 矢作紗友里＆中尾衣里＆浅野真澄   \n",
            "2       轟轟生徒会タンケンジャー  白皇学院生徒会三人娘 starring 矢作紗友里＆中尾衣里＆浅野真澄   \n",
            "3  アイ･ラブ･ユーならシャウトして!  白皇学院生徒会三人娘 starring 矢作紗友里＆中尾衣里＆浅野真澄   \n",
            "4     Princess is me                  瀬川 泉 starring 矢作紗友里   \n",
            "\n",
            "                                        album  popularity  explicit  \\\n",
            "0  「ハヤテのごとく！」キャラクター COLLECTION／白皇学院生徒会三人娘&桂雪路           0     False   \n",
            "1  「ハヤテのごとく！」キャラクター COLLECTION／白皇学院生徒会三人娘&桂雪路           0     False   \n",
            "2  「ハヤテのごとく！」キャラクター COLLECTION／白皇学院生徒会三人娘&桂雪路           0     False   \n",
            "3  「ハヤテのごとく！」キャラクター COLLECTION／白皇学院生徒会三人娘&桂雪路           0     False   \n",
            "4  「ハヤテのごとく！」キャラクター COLLECTION／白皇学院生徒会三人娘&桂雪路           1     False   \n",
            "\n",
            "  release_date  duration_ms  preview_url  \n",
            "0   2011-10-26       186813          NaN  \n",
            "1   2011-10-26       285746          NaN  \n",
            "2   2011-10-26       204586          NaN  \n",
            "3   2011-10-26       270253          NaN  \n",
            "4   2011-10-26       275093          NaN  \n"
          ]
        }
      ],
      "source": [
        "print(\"\\n===== 5 Baris Pertama Dataset =====\")\n",
        "print(df.head())"
      ]
    },
    {
      "cell_type": "markdown",
      "metadata": {
        "id": "34jyAHWH_C_5"
      },
      "source": [
        "**Struktur Data (df.info(), shape, dtypes)**"
      ]
    },
    {
      "cell_type": "markdown",
      "metadata": {
        "id": "UNmWtW8v_C_5"
      },
      "source": [
        "### Tabel Struktur Data\n",
        "\n",
        "| No | Kolom         | Non-Null Count | Tipe Data |\n",
        "|----|---------------|----------------|-----------|\n",
        "| 0  | name          | 5624           | object    |\n",
        "| 1  | artist        | 5624           | object    |\n",
        "| 2  | album         | 5624           | object    |\n",
        "| 3  | popularity    | 5624           | int64     |\n",
        "| 4  | explicit      | 5624           | bool      |\n",
        "| 5  | release_date  | 5624           | object    |\n",
        "| 6  | duration_ms   | 5624           | int64     |\n",
        "| 7  | preview_url   | 0              | float64   |\n",
        "\n",
        "**Total Baris**: 5624  \n",
        "**Total Kolom**: 8  \n",
        "**Penggunaan Memori**: ~313.2+ KB  "
      ]
    },
    {
      "cell_type": "code",
      "execution_count": null,
      "metadata": {
        "id": "Jr_g5yu8_C_5",
        "outputId": "ee9565aa-0955-4b94-ee25-db880f77fe0e"
      },
      "outputs": [
        {
          "name": "stdout",
          "output_type": "stream",
          "text": [
            "\n",
            "Info Data:\n",
            "<class 'pandas.core.frame.DataFrame'>\n",
            "RangeIndex: 5624 entries, 0 to 5623\n",
            "Data columns (total 8 columns):\n",
            " #   Column        Non-Null Count  Dtype  \n",
            "---  ------        --------------  -----  \n",
            " 0   name          5624 non-null   object \n",
            " 1   artist        5624 non-null   object \n",
            " 2   album         5624 non-null   object \n",
            " 3   popularity    5624 non-null   int64  \n",
            " 4   explicit      5624 non-null   bool   \n",
            " 5   release_date  5624 non-null   object \n",
            " 6   duration_ms   5624 non-null   int64  \n",
            " 7   preview_url   0 non-null      float64\n",
            "dtypes: bool(1), float64(1), int64(2), object(4)\n",
            "memory usage: 313.2+ KB\n",
            "None\n"
          ]
        }
      ],
      "source": [
        "print(\"\\nInfo Data:\")\n",
        "print(df.info())"
      ]
    },
    {
      "cell_type": "markdown",
      "metadata": {
        "id": "U2Ot0L12_C_5"
      },
      "source": [
        "**Jumlah data (baris dan kolom)**"
      ]
    },
    {
      "cell_type": "markdown",
      "metadata": {
        "id": "Of_2ILlZ_C_5"
      },
      "source": [
        "Jumlah data: 5624 baris dan 8 kolom"
      ]
    },
    {
      "cell_type": "code",
      "execution_count": null,
      "metadata": {
        "id": "EivemseG_C_5",
        "outputId": "296c10cc-af02-4b72-cb48-7b6400e288ee"
      },
      "outputs": [
        {
          "name": "stdout",
          "output_type": "stream",
          "text": [
            "Jumlah data: 5624 baris dan 8 kolom\n"
          ]
        }
      ],
      "source": [
        "print(f\"Jumlah data: {df.shape[0]} baris dan {df.shape[1]} kolom\")"
      ]
    },
    {
      "cell_type": "markdown",
      "metadata": {
        "id": "v3kaxX5W_C_5"
      },
      "source": [
        "# Jumlah missing values"
      ]
    },
    {
      "cell_type": "markdown",
      "metadata": {
        "id": "tXTTZAii_C_5"
      },
      "source": [
        "| Kolom         | Nilai Kosong |\n",
        "| ------------- | ------------ |\n",
        "| name          | 0            |\n",
        "| artist        | 0            |\n",
        "| album         | 0            |\n",
        "| popularity    | 0            |\n",
        "| explicit      | 0            |\n",
        "| release\\_date | 0            |\n",
        "| duration\\_ms  | 0            |\n",
        "| preview\\_url  | 5624         |\n"
      ]
    },
    {
      "cell_type": "code",
      "execution_count": null,
      "metadata": {
        "id": "Dj1GW0tQ_C_6",
        "outputId": "41dbb318-4f1c-47d5-fc70-c4bc07b50cca"
      },
      "outputs": [
        {
          "name": "stdout",
          "output_type": "stream",
          "text": [
            "\n",
            "===== Nilai Kosong per Kolom =====\n",
            "name               0\n",
            "artist             0\n",
            "album              0\n",
            "popularity         0\n",
            "explicit           0\n",
            "release_date       0\n",
            "duration_ms        0\n",
            "preview_url     5624\n",
            "dtype: int64\n"
          ]
        }
      ],
      "source": [
        "print(\"\\n===== Nilai Kosong per Kolom =====\")\n",
        "print(df.isnull().sum())\n"
      ]
    },
    {
      "cell_type": "markdown",
      "metadata": {
        "id": "TrnQLe99_C_6"
      },
      "source": [
        "**Deskripsi Statistik (df.describe())**"
      ]
    },
    {
      "cell_type": "markdown",
      "metadata": {
        "id": "luNCpA8l_C_6"
      },
      "source": [
        "| Statistik | popularity  | duration\\_ms | preview\\_url |\n",
        "| --------- | ----------- | ------------ | ------------ |\n",
        "| count     | 5624.000000 | 5624.000000  | 0.0          |\n",
        "| mean      | 15.677809   | 197499.4232  | NaN          |\n",
        "| std       | 15.031440   | 81228.9246   | NaN          |\n",
        "| min       | 0.000000    | 7786.0000    | NaN          |\n",
        "| 25%       | 4.000000    | 116571.0000  | NaN          |\n",
        "| 50%       | 13.000000   | 217079.0000  | NaN          |\n",
        "| 75%       | 24.000000   | 262133.0000  | NaN          |\n",
        "| max       | 87.000000   | 511306.0000  | NaN          |\n"
      ]
    },
    {
      "cell_type": "code",
      "execution_count": null,
      "metadata": {
        "id": "PkzxOyvM_C_6",
        "outputId": "7696694c-c8b6-429d-fd64-b2f383b2ee60"
      },
      "outputs": [
        {
          "name": "stdout",
          "output_type": "stream",
          "text": [
            "\n",
            "Statistik Deskriptif:\n",
            "        popularity    duration_ms  preview_url\n",
            "count  5624.000000    5624.000000          0.0\n",
            "mean     15.677809  197499.423186          NaN\n",
            "std      15.031440   81228.924554          NaN\n",
            "min       0.000000    7786.000000          NaN\n",
            "25%       4.000000  116571.000000          NaN\n",
            "50%      13.000000  217079.000000          NaN\n",
            "75%      24.000000  262133.000000          NaN\n",
            "max      87.000000  511306.000000          NaN\n"
          ]
        }
      ],
      "source": [
        "print(\"\\nStatistik Deskriptif:\")\n",
        "print(df.describe())"
      ]
    },
    {
      "cell_type": "markdown",
      "metadata": {
        "id": "7nnpgjKkZq5U"
      },
      "source": [
        "**Cek duplikat berdasarkan 'name' dan 'artist'**"
      ]
    },
    {
      "cell_type": "code",
      "execution_count": null,
      "metadata": {
        "id": "ntnarwDmZq5U",
        "outputId": "1a5c0ea3-e616-4c3c-eff8-2775a58aa33f"
      },
      "outputs": [
        {
          "name": "stdout",
          "output_type": "stream",
          "text": [
            "Jumlah duplikat berdasarkan 'name' dan 'artist': 4398\n"
          ]
        }
      ],
      "source": [
        "dupe_subset = df.duplicated(subset=['name', 'artist']).sum()\n",
        "print(f\"Jumlah duplikat berdasarkan 'name' dan 'artist': {dupe_subset}\")"
      ]
    },
    {
      "cell_type": "markdown",
      "metadata": {
        "id": "IxW4gwV6_C_6"
      },
      "source": [
        "**Cek Duplikat Seluruh Kolom**"
      ]
    },
    {
      "cell_type": "markdown",
      "metadata": {
        "id": "7RPombQS_C_7"
      },
      "source": [
        "Jumlah duplikat dalam dataset: 4379"
      ]
    },
    {
      "cell_type": "code",
      "execution_count": null,
      "metadata": {
        "id": "_1Fndjef_C_7",
        "outputId": "248ba979-b8ff-4f3b-a64c-e8555c722ffb"
      },
      "outputs": [
        {
          "name": "stdout",
          "output_type": "stream",
          "text": [
            "\n",
            "Jumlah duplikat total (seluruh kolom): 4379\n"
          ]
        }
      ],
      "source": [
        "total_dupe = df.duplicated().sum()\n",
        "print(f\"\\nJumlah duplikat total (seluruh kolom): {total_dupe}\")"
      ]
    },
    {
      "cell_type": "markdown",
      "metadata": {
        "id": "ojXP99SEZq5U"
      },
      "source": [
        "Jumlah duplikat berdasarkan 'name' dan 'artist': 4398"
      ]
    },
    {
      "cell_type": "markdown",
      "metadata": {
        "id": "Ea6HoLzE_C_7"
      },
      "source": [
        "**Cek Outlier (tanpa hapus dulu, cukup identifikasi)**"
      ]
    },
    {
      "cell_type": "markdown",
      "metadata": {
        "id": "8l_ShjJ-_C_7"
      },
      "source": [
        "Jumlah outlier per fitur:\n",
        "popularity     188\n",
        "duration_ms     12\n",
        "preview_url      0\n",
        "dtype: int64"
      ]
    },
    {
      "cell_type": "code",
      "execution_count": null,
      "metadata": {
        "id": "n1hEqAkh_C_7",
        "outputId": "b084c862-9a3e-44ac-ed0a-6a519337b54c"
      },
      "outputs": [
        {
          "name": "stdout",
          "output_type": "stream",
          "text": [
            "\n",
            "Jumlah outlier per fitur:\n",
            "popularity     188\n",
            "duration_ms     12\n",
            "preview_url      0\n",
            "dtype: int64\n"
          ]
        }
      ],
      "source": [
        "numerik_df = df.select_dtypes(include=['float64', 'int64'])\n",
        "Q1 = numerik_df.quantile(0.25)\n",
        "Q3 = numerik_df.quantile(0.75)\n",
        "IQR = Q3 - Q1\n",
        "lower_bound = Q1 - 1.5 * IQR\n",
        "upper_bound = Q3 + 1.5 * IQR\n",
        "outliers = ((numerik_df < lower_bound) | (numerik_df > upper_bound)).sum()\n",
        "print(\"\\nJumlah outlier per fitur:\")\n",
        "print(outliers)"
      ]
    },
    {
      "cell_type": "markdown",
      "metadata": {
        "id": "NaaDsG2B_C_7"
      },
      "source": [
        "# Visualisasi distribusi fitur"
      ]
    },
    {
      "cell_type": "code",
      "execution_count": null,
      "metadata": {
        "id": "-hKx_Kgn_C_7",
        "outputId": "8e528af9-5f2b-481e-ec52-ccaf0b66ad1c"
      },
      "outputs": [
        {
          "data": {
            "image/png": "[encoded data removed]",
            "text/plain": [
              "<Figure size 1200x500 with 1 Axes>"
            ]
          },
          "metadata": {},
          "output_type": "display_data"
        },
        {
          "data": {
            "image/png": "[encoded data removed]",
            "text/plain": [
              "<Figure size 1200x500 with 1 Axes>"
            ]
          },
          "metadata": {},
          "output_type": "display_data"
        }
      ],
      "source": [
        "plt.figure(figsize=(12, 5))\n",
        "sns.histplot(df['popularity'], kde=True, bins=30)\n",
        "plt.title('Distribusi Popularitas Lagu')\n",
        "plt.xlabel('Popularitas')\n",
        "plt.ylabel('Jumlah Lagu')\n",
        "plt.show()\n",
        "\n",
        "plt.figure(figsize=(12, 5))\n",
        "sns.histplot(df['duration_ms'] / 60000, kde=True, bins=30)\n",
        "plt.title('Distribusi Durasi Lagu (menit)')\n",
        "plt.xlabel('Durasi (menit)')\n",
        "plt.ylabel('Jumlah Lagu')\n",
        "plt.show()\n"
      ]
    },
    {
      "cell_type": "markdown",
      "metadata": {
        "id": "ALimtuZG_C_8"
      },
      "source": [
        "# **4.Data Preparation**"
      ]
    },
    {
      "cell_type": "markdown",
      "metadata": {
        "id": "1JSznbaWY4HE"
      },
      "source": [
        "1. Hapus Duplikat"
      ]
    },
    {
      "cell_type": "markdown",
      "metadata": {
        "id": "k6C1TTtUY4HE"
      },
      "source": [
        "Duplikat dapat menyebabkan bias pada analisis dan hasil prediksi. Oleh karena itu, dilakukan penghapusan data duplikat berdasarkan kombinasi kolom 'name' dan 'artist' agar setiap lagu unik dalam dataset."
      ]
    },
    {
      "cell_type": "code",
      "execution_count": null,
      "metadata": {
        "id": "lRWSkbrRY4HE",
        "outputId": "7432cf28-ea8e-49f5-8be0-491efb4b6f4d"
      },
      "outputs": [
        {
          "name": "stdout",
          "output_type": "stream",
          "text": [
            "Jumlah data setelah drop duplikat: 1226\n"
          ]
        }
      ],
      "source": [
        "df = df.drop_duplicates(subset=['name', 'artist'])\n",
        "print(f\"Jumlah data setelah drop duplikat: {df.shape[0]}\")"
      ]
    },
    {
      "cell_type": "markdown",
      "metadata": {
        "id": "SBoKGKbOY4HN"
      },
      "source": [
        "2. Hapus Outlier (gunakan IQR)"
      ]
    },
    {
      "cell_type": "markdown",
      "metadata": {
        "id": "nx8xJSc0Y4HN"
      },
      "source": [
        "Outlier dapat memengaruhi distribusi data dan performa model. Oleh karena itu, digunakan metode Interquartile Range (IQR) untuk menghapus outlier dari fitur numerik. Fitur yang digunakan adalah seluruh kolom numerik, kecuali kolom yang tidak relevan seperti 'preview_url'.\n",
        "\n",
        "Proses IQR dilakukan dengan:\n",
        "\n",
        "Menghitung Q1 (25%) dan Q3 (75%)\n",
        "\n",
        "Menentukan batas bawah dan atas:\n",
        "lower_bound = Q1 - 1.5 * IQR\n",
        "upper_bound = Q3 + 1.5 * IQR\n",
        "\n",
        "Menghapus data yang berada di luar batas tersebut."
      ]
    },
    {
      "cell_type": "code",
      "execution_count": null,
      "metadata": {
        "id": "8_FgQWweY4HN",
        "outputId": "8b1c8f71-94c7-415e-cd3e-55d7aabab78c"
      },
      "outputs": [
        {
          "name": "stdout",
          "output_type": "stream",
          "text": [
            "popularity: Removed 51 outliers\n",
            "duration_ms: Removed 3 outliers\n"
          ]
        }
      ],
      "source": [
        "def remove_outliers_iqr(data, features):\n",
        "    for feature in features:\n",
        "        Q1 = data[feature].quantile(0.25)\n",
        "        Q3 = data[feature].quantile(0.75)\n",
        "        IQR = Q3 - Q1\n",
        "        lower_bound = Q1 - 1.5 * IQR\n",
        "        upper_bound = Q3 + 1.5 * IQR\n",
        "        before = data.shape[0]\n",
        "        data = data[(data[feature] >= lower_bound) & (data[feature] <= upper_bound)]\n",
        "        after = data.shape[0]\n",
        "        print(f\"{feature}: Removed {before - after} outliers\")\n",
        "    return data\n",
        "\n",
        "numerical_features = df.select_dtypes(include=['float64', 'int64']).columns.tolist()\n",
        "if 'preview_url' in numerical_features:\n",
        "    numerical_features.remove('preview_url')\n",
        "\n",
        "df_cleaned = remove_outliers_iqr(df, numerical_features)"
      ]
    },
    {
      "cell_type": "markdown",
      "metadata": {
        "id": "SNbOyREFY4HO"
      },
      "source": [
        "3. Cek & Imputasi Missing Values"
      ]
    },
    {
      "cell_type": "markdown",
      "metadata": {
        "id": "cOWWpiRBY4HO"
      },
      "source": [
        "Setelah data bersih dari duplikat dan outlier, dilakukan pemeriksaan nilai kosong (missing values). Jika ditemukan pada fitur seperti 'popularity' dan 'duration_ms', nilai kosong diisi menggunakan median dari kolom tersebut agar tidak terpengaruh oleh distribusi miring."
      ]
    },
    {
      "cell_type": "code",
      "execution_count": null,
      "metadata": {
        "id": "utgvnRHYY4HO",
        "outputId": "b37e58c4-9139-4030-c21c-077700f5fa2e"
      },
      "outputs": [
        {
          "name": "stdout",
          "output_type": "stream",
          "text": [
            "Tidak ada missing value di kolom 'popularity'.\n",
            "Tidak ada missing value di kolom 'duration_ms'.\n"
          ]
        }
      ],
      "source": [
        "for col in ['popularity', 'duration_ms']:\n",
        "    if df_cleaned[col].isnull().sum() > 0:\n",
        "        median_val = df_cleaned[col].median()\n",
        "        df_cleaned[col].fillna(median_val, inplace=True)\n",
        "        print(f\"Missing value di kolom '{col}' diisi dengan median: {median_val}\")\n",
        "    else:\n",
        "        print(f\"Tidak ada missing value di kolom '{col}'.\")"
      ]
    },
    {
      "cell_type": "markdown",
      "metadata": {},
      "source": [
        "Oleh karena itu, tidak diperlukan pengisian nilai kosong dengan median pada fitur numerik setelah proses pembersihan.\n"
      ]
    },
    {
      "cell_type": "markdown",
      "metadata": {
        "id": "7LZh-9ROY4HO"
      },
      "source": [
        " 4. Mengonversi release_date ke datetime"
      ]
    },
    {
      "cell_type": "markdown",
      "metadata": {
        "id": "5crTjp0GY4HO"
      },
      "source": [
        "Kolom 'release_date' dikonversi ke tipe data datetime untuk memudahkan analisis waktu di tahap selanjutnya."
      ]
    },
    {
      "cell_type": "code",
      "execution_count": null,
      "metadata": {
        "id": "XoUSiA1qY4HO"
      },
      "outputs": [],
      "source": [
        "df_cleaned['release_date'] = pd.to_datetime(df_cleaned['release_date'], errors='coerce')"
      ]
    },
    {
      "cell_type": "markdown",
      "metadata": {
        "id": "CTIYQ6ebY4HO"
      },
      "source": [
        "5. Binning"
      ]
    },
    {
      "cell_type": "markdown",
      "metadata": {
        "id": "eRGRQZcmY4HO"
      },
      "source": [
        "Untuk mempermudah analisis kategorikal dan visualisasi, dilakukan binning pada dua fitur:\n",
        "\n",
        "popularity dibagi menjadi 5 kategori: Very Low, Low, Medium, High, Very High\n",
        "\n",
        "duration_ms dikonversi ke menit dan dibagi menjadi 4 kategori: Short, Medium, Long, Very Long"
      ]
    },
    {
      "cell_type": "code",
      "execution_count": null,
      "metadata": {
        "id": "SVWjJteHY4HP"
      },
      "outputs": [],
      "source": [
        "bins_popularity = [0, 20, 40, 60, 80, 100]\n",
        "labels_popularity = ['Very Low', 'Low', 'Medium', 'High', 'Very High']\n",
        "df_cleaned['popularity_binned'] = pd.cut(df_cleaned['popularity'], bins=bins_popularity, labels=labels_popularity, include_lowest=True)\n",
        "\n",
        "df_cleaned['duration_min'] = df_cleaned['duration_ms'] / 60000\n",
        "bins_duration = [0, 2, 4, 6, np.inf]\n",
        "labels_duration = ['Short', 'Medium', 'Long', 'Very Long']\n",
        "df_cleaned['duration_binned'] = pd.cut(df_cleaned['duration_min'], bins=bins_duration, labels=labels_duration, include_lowest=True)"
      ]
    },
    {
      "cell_type": "markdown",
      "metadata": {
        "id": "c6QZA-_NY4HP"
      },
      "source": [
        "6. Scaling fitur numerik"
      ]
    },
    {
      "cell_type": "markdown",
      "metadata": {
        "id": "fIYTGrghY4HP"
      },
      "source": [
        "Fitur 'popularity' dan 'duration_ms' di-scale menggunakan MinMaxScaler agar nilai berada dalam rentang [0, 1]. Ini penting untuk algoritma yang sensitif terhadap skala,"
      ]
    },
    {
      "cell_type": "code",
      "execution_count": null,
      "metadata": {
        "id": "Go87YJSfY4HP",
        "outputId": "e062c44f-9af6-4417-8426-6019655f3a5f"
      },
      "outputs": [
        {
          "name": "stdout",
          "output_type": "stream",
          "text": [
            "\n",
            "Hasil setelah scaling:\n",
            "   popularity  duration_ms\n",
            "0    0.000000     0.438362\n",
            "1    0.000000     0.680607\n",
            "2    0.000000     0.481881\n",
            "3    0.000000     0.642671\n",
            "4    0.019231     0.654523\n"
          ]
        }
      ],
      "source": [
        "features = ['popularity', 'duration_ms']\n",
        "scaler = MinMaxScaler()\n",
        "df_scaled = df_cleaned\n",
        "df_scaled[features] = scaler.fit_transform(df_scaled[features])\n",
        "\n",
        "print(\"\\nHasil setelah scaling:\")\n",
        "print(df_scaled[features].head())\n"
      ]
    },
    {
      "cell_type": "markdown",
      "metadata": {
        "id": "BquYG_rzY4HQ"
      },
      "source": [
        "Seluruh proses data preparation telah dilakukan agar data yang digunakan untuk modeling benar-benar bersih, relevan, dan terstandarisasi. Hal ini diharapkan dapat meningkatkan akurasi dan generalisasi model pada tahap selanjutnya."
      ]
    },
    {
      "cell_type": "markdown",
      "metadata": {
        "id": "R4dDOh7O_ovU"
      },
      "source": [
        "# 5. Modeling (Content-Based Filtering)"
      ]
    },
    {
      "cell_type": "markdown",
      "metadata": {
        "id": "_DguZx9FMEp-"
      },
      "source": [
        "Metode Content-Based Filtering digunakan untuk merekomendasikan lagu-lagu yang memiliki karakteristik mirip dengan lagu yang dipilih pengguna. Pendekatan ini berfokus pada fitur numerik dari lagu — seperti popularitas dan durasi — yang telah melalui proses penskalaan agar berada dalam rentang nilai yang sebanding.\n",
        "\n",
        "Untuk mengukur tingkat kemiripan antar lagu, digunakan metrik cosine similarity, yaitu ukuran matematis yang menghitung sudut antara dua vektor fitur dalam ruang multidimensi. Semakin kecil sudut antara dua vektor, semakin tinggi nilai kemiripan (mendekati 1), yang menandakan bahwa lagu-lagu tersebut memiliki profil karakteristik yang serupa.\n",
        "\n",
        "---\n",
        "\n",
        "Penjelasan singkat:\n",
        "cosine_similarity(df_scaled[features])\n",
        "Menghitung seberapa mirip setiap lagu dengan lagu lain berdasarkan fitur numerik seperti popularitas dan durasi, menggunakan metode cosine similarity.\n",
        "\n",
        "Fungsi recommend_songs\n",
        "Menerima nama lagu sebagai input dan mengembalikan daftar lagu lain yang paling mirip berdasarkan skor similarity, menampilkan informasi nama, artis, popularitas, dan durasi.\n",
        "\n"
      ]
    },
    {
      "cell_type": "code",
      "execution_count": null,
      "metadata": {
        "id": "e7Vcpw9d_DAA"
      },
      "outputs": [],
      "source": [
        "cosine_sim = cosine_similarity(df_scaled[features])\n",
        "\n",
        "def recommend_songs(song_name, df, cosine_sim, top_k=5):\n",
        "    if song_name not in df['name'].values:\n",
        "        print(f\"Lagu '{song_name}' tidak ditemukan dalam dataset.\")\n",
        "        return pd.DataFrame()\n",
        "\n",
        "    idx = df.index[df['name'] == song_name][0]\n",
        "    sim_scores = list(enumerate(cosine_sim[idx]))\n",
        "    sim_scores = sorted(sim_scores, key=lambda x: x[1], reverse=True)\n",
        "    sim_scores = sim_scores[1:top_k+1]\n",
        "\n",
        "    song_indices = [i[0] for i in sim_scores]\n",
        "    return df.iloc[song_indices][['name', 'artist', 'popularity', 'duration_min']]"
      ]
    },
    {
      "cell_type": "markdown",
      "metadata": {
        "id": "7eNbxezetYck"
      },
      "source": [
        "# 6. Hasil Top-N Rekomendasi"
      ]
    },
    {
      "cell_type": "markdown",
      "metadata": {
        "id": "YUoYxbq_tYck"
      },
      "source": [
        "Penjelasan singkat:\n",
        "\n",
        "Sistem menampilkan 5 lagu teratas yang paling mirip dengan lagu input berdasarkan fitur seperti popularitas dan durasi. Rekomendasi ini mayoritas berasal dari artis yang sama, menunjukkan konsistensi dalam genre atau gaya musik. Namun, ada juga variasi artis lain sebagai bentuk eksplorasi relevan dari sistem."
      ]
    },
    {
      "cell_type": "code",
      "execution_count": null,
      "metadata": {
        "id": "4Kop8VEK_tNT",
        "outputId": "6b1dbc8b-b0bb-4b80-ace0-73464a7b7e65"
      },
      "outputs": [
        {
          "name": "stdout",
          "output_type": "stream",
          "text": [
            "\n",
            "Rekomendasi lagu mirip dengan '｢ごめん｣で済むなら恋などしない':\n",
            "\n"
          ]
        }
      ],
      "source": [
        "song_input = df_cleaned['name'].iloc[0]\n",
        "print(f\"\\nRekomendasi lagu mirip dengan '{song_input}':\\n\")\n",
        "recommendations = recommend_songs(song_input, df_cleaned, cosine_sim, top_k=5)"
      ]
    },
    {
      "cell_type": "markdown",
      "metadata": {
        "id": "YuUbNRdw_DAA"
      },
      "source": [
        "Print header tabel"
      ]
    },
    {
      "cell_type": "code",
      "execution_count": null,
      "metadata": {
        "id": "XYS2TVBZ_DAA",
        "outputId": "f5e11b6c-de22-42fd-834e-c765a078b38b"
      },
      "outputs": [
        {
          "name": "stdout",
          "output_type": "stream",
          "text": [
            "No   | Name                      | Artist               | Popularity | Duration (min)\n",
            "--------------------------------------------------------------------------------\n",
            "1    | 白皇学院生徒会不心得                | 白皇学院生徒会三人娘 starring 矢作紗友里＆中尾衣里＆浅野真澄 | 0.0        | 4.76\n",
            "2    | 轟轟生徒会タンケンジャー              | 白皇学院生徒会三人娘 starring 矢作紗友里＆中尾衣里＆浅野真澄 | 0.0        | 3.41\n",
            "3    | アイ･ラブ･ユーならシャウトして!         | 白皇学院生徒会三人娘 starring 矢作紗友里＆中尾衣里＆浅野真澄 | 0.0        | 4.50\n",
            "4    | ￥JENNEY～銭 it's my Soul～   | 桂 雪路 starring 生天目仁美  | 0.0        | 4.69\n",
            "5    | もっと素顔でハーマイオニー             | 桂 雪路 featuring 綾崎ハヤテ starring 生天目仁美 featuring 白石涼子, Ayasaki Hayate | 0.0        | 3.53\n"
          ]
        }
      ],
      "source": [
        "print(f\"{'No':<4} | {'Name':<25} | {'Artist':<20} | {'Popularity':<10} | {'Duration (min)':<14}\")\n",
        "print(\"-\" * 80)\n",
        "for i, row in enumerate(recommendations.itertuples(), 1):\n",
        "    print(f\"{i:<4} | {row.name:<25} | {row.artist:<20} | {row.popularity:<10} | {row.duration_min:.2f}\")\n"
      ]
    },
    {
      "cell_type": "markdown",
      "metadata": {
        "id": "kgkIkb_XTvCR"
      },
      "source": [
        "**Penjelasan :**\n",
        "\n",
        "Top-N Rekomendasi adalah daftar N lagu teratas yang direkomendasikan oleh sistem kepada pengguna berdasarkan preferensi, pola pendengaran, atau algoritma rekomendasi yang digunakan.\n",
        "\n",
        "Dalam tabel ini, N = 5, artinya sistem memberikan 5 lagu yang dianggap paling relevan untuk direkomendasikan.\n",
        "\n",
        "Semua lagu pada daftar ini memiliki popularitas = 0, yang kemungkinan menunjukkan bahwa lagu-lagu ini kurang dikenal secara umum atau merupakan lagu niche.\n",
        "\n",
        "Durasi tiap lagu tercantum dalam menit, memberikan gambaran berapa lama setiap lagu berdurasi sehingga pengguna bisa mempertimbangkan waktu mendengarkan.\n",
        "\n",
        "Kebanyakan lagu pada daftar ini dinyanyikan oleh 白皇学院生徒会三人娘 starring 矢作紗友里＆中尾衣里＆浅野真澄, artinya sistem merekomendasikan lagu yang berasal dari artis yang sama atau terkait, sehingga menunjukkan fokus pada konsistensi genre/artis.\n",
        "\n",
        "Lagu ke-4 dan ke-5 berasal dari artis yang berbeda (桂 雪路 dan 生天目仁美), ini menandakan sistem juga memperluas rekomendasi dengan artis lain yang masih mungkin relevan."
      ]
    },
    {
      "cell_type": "markdown",
      "metadata": {
        "id": "U6nCxekxZ6wV"
      },
      "source": [
        "---"
      ]
    },
    {
      "cell_type": "markdown",
      "metadata": {
        "id": "YJgPIHfg_v8M"
      },
      "source": [
        "# 7. Evaluation (Precision@K)"
      ]
    },
    {
      "cell_type": "markdown",
      "metadata": {
        "id": "W1cS6SwztYck"
      },
      "source": [
        "Penjelasan:\n",
        "\n",
        "Fungsi ini mengukur precision@k, yaitu seberapa banyak dari top-k rekomendasi lagu yang berasal dari artis yang sama dengan lagu input.\n",
        "\n",
        "recommended_df adalah DataFrame lagu yang direkomendasikan.\n",
        "\n",
        "original_artist adalah nama artis dari lagu input.\n",
        "\n",
        "k adalah jumlah rekomendasi yang dihitung (misal top 5).\n",
        "\n",
        "Hasilnya adalah nilai antara 0 dan 1, semakin dekat ke 1 berarti rekomendasi lebih relevan (banyak lagu dari artis yang sama)."
      ]
    },
    {
      "cell_type": "markdown",
      "metadata": {
        "id": "35AySW43_DAB"
      },
      "source": [
        "Hitung berapa banyak lagu dari artis yang sama di top-k rekomendasi"
      ]
    },
    {
      "cell_type": "code",
      "execution_count": null,
      "metadata": {
        "id": "KVk0aWos_DAB"
      },
      "outputs": [],
      "source": [
        "def precision_at_k(recommended_df, original_artist, k=5):\n",
        "    recommended_k = recommended_df.head(k)\n",
        "    true_positives = sum(recommended_k['artist'] == original_artist)\n",
        "    return true_positives / k"
      ]
    },
    {
      "cell_type": "markdown",
      "metadata": {
        "id": "_UrKOG27_DAB"
      },
      "source": [
        "Evaluasi lagu contoh dengan tambahan informasi popularity dan durasi"
      ]
    },
    {
      "cell_type": "code",
      "execution_count": null,
      "metadata": {
        "id": "7oAGoFDA_xXg",
        "outputId": "d84808d0-36a7-460e-b9b0-ce2bba1c7eb1"
      },
      "outputs": [
        {
          "name": "stdout",
          "output_type": "stream",
          "text": [
            "\n",
            "Evaluasi lagu   : '｢ごめん｣で済むなら恋などしない'\n",
            "Artis           : 白皇学院生徒会三人娘 starring 矢作紗友里＆中尾衣里＆浅野真澄\n",
            "Popularity      : 0.0\n",
            "Durasi (menit)  : 3.11\n",
            "Precision@5     : 0.60\n"
          ]
        }
      ],
      "source": [
        "if song_input in df_cleaned['name'].values:\n",
        "    original_artist = df_cleaned.loc[df_cleaned['name'] == song_input, 'artist'].values[0]\n",
        "    popularity = df_cleaned.loc[df_cleaned['name'] == song_input, 'popularity'].values[0]\n",
        "    duration_min = df_cleaned.loc[df_cleaned['name'] == song_input, 'duration_min'].values[0]\n",
        "\n",
        "    precision = precision_at_k(recommendations, original_artist, k=5)\n",
        "\n",
        "    print(f\"\\nEvaluasi lagu   : '{song_input}'\")\n",
        "    print(f\"Artis           : {original_artist}\")\n",
        "    print(f\"Popularity      : {popularity}\")\n",
        "    print(f\"Durasi (menit)  : {duration_min:.2f}\")\n",
        "    print(f\"Precision@5     : {precision:.2f}\")\n",
        "else:\n",
        "    print(\"Lagu input tidak ditemukan, tidak bisa evaluasi precision@k.\")"
      ]
    },
    {
      "cell_type": "markdown",
      "metadata": {
        "id": "vkEw-qxOTvCS"
      },
      "source": [
        "Precision@5 adalah metrik evaluasi yang digunakan untuk mengukur seberapa tepat sebuah sistem rekomendasi dalam memberikan 5 rekomendasi teratas kepada pengguna.\n",
        "\n",
        "Nilai precision@5 = 0.60 berarti dari 5 rekomendasi lagu yang diberikan oleh sistem, rata-rata 3 lagu (60%) di antaranya relevan atau sesuai dengan preferensi pengguna.\n",
        "\n",
        "Precision@5 mengukur kualitas rekomendasi, dengan fokus hanya pada 5 rekomendasi teratas, sehingga semakin tinggi nilai precision, semakin baik sistem dalam merekomendasikan lagu yang relevan."
      ]
    },
    {
      "cell_type": "markdown",
      "metadata": {
        "id": "wzoeD31-_zkm"
      },
      "source": [
        "# 8. Tambahan: Top Populer dan Terbaru"
      ]
    },
    {
      "cell_type": "markdown",
      "metadata": {
        "id": "5i0tGf9AMEqA"
      },
      "source": [
        "### Fungsi `top_popular_songs`\n",
        "\n",
        "**Tujuan:**  \n",
        "Mengambil daftar lagu terpopuler berdasarkan nilai kolom `popularity`.\n",
        "\n",
        "**Langkah kerja:**  \n",
        "- Pilih kolom `name`, `artist`, dan `popularity`.  \n",
        "- Hapus duplikat agar setiap lagu/artis unik.  \n",
        "- Urutkan berdasarkan `popularity` dari tinggi ke rendah.  \n",
        "- Ambil `top_n` lagu teratas (default 5).\n",
        "\n",
        "---\n",
        "\n",
        "### Fungsi `top_recent_songs`\n",
        "\n",
        "**Tujuan:**  \n",
        "Mengambil daftar lagu terbaru berdasarkan `release_date`.\n",
        "\n",
        "**Langkah kerja:**  \n",
        "- Pilih kolom `name`, `artist`, dan `release_date`.  \n",
        "- Hapus duplikat.  \n",
        "- Urutkan berdasarkan tanggal rilis dari terbaru ke terlama.  \n",
        "- Ambil `top_n` lagu terbaru.\n",
        "\n",
        "---\n",
        "\n",
        "### Penggunaan\n",
        "\n",
        "Mencetak tabel markdown berisi 5 lagu terpopuler dan 5 lagu terbaru agar mudah dibaca di terminal atau notebook.\n"
      ]
    },
    {
      "cell_type": "code",
      "execution_count": null,
      "metadata": {
        "id": "IUPCsHpc_04E",
        "outputId": "8b67c02c-1264-41fe-f7a6-decdb26f70a8"
      },
      "outputs": [
        {
          "name": "stdout",
          "output_type": "stream",
          "text": [
            "\n",
            "Top 5 Lagu Terpopuler:\n",
            "| name                      | artist              |   popularity |\n",
            "|:--------------------------|:--------------------|-------------:|\n",
            "| Unwelcome School          | Mitsukiyo           |     1        |\n",
            "| もしも命が描けたら        | YOASOBI             |     1        |\n",
            "| ラブレター                | YOASOBI             |     0.980769 |\n",
            "| McQueen and Sally         | Randy Newman        |     0.980769 |\n",
            "| ツバメ (feat. ミドリーズ) | YOASOBI, ミドリーズ |     0.961538 |\n",
            "\n",
            "Top 5 Lagu Terbaru:\n",
            "| name                                                             | artist                     | release_date        |\n",
            "|:-----------------------------------------------------------------|:---------------------------|:--------------------|\n",
            "| A Gastronomic Symphony (From \"Genshin Impact\") - Escoffier Theme | tnbee                      | 2025-05-09 00:00:00 |\n",
            "| Peek-A-Boo!! (みえる・メエ・パリン・たいむ ver.)                 | アイカツアカデミー！配信部 | 2025-03-30 00:00:00 |\n",
            "| アコガレスカイ (みえる・メエ・パリン・たいむ ver.)               | アイカツアカデミー！配信部 | 2025-03-30 00:00:00 |\n",
            "| 満開！エリオント (みえる・メエ・パリン・たいむ ver.)             | アイカツアカデミー！配信部 | 2025-03-30 00:00:00 |\n",
            "| 空色ミチシルベ                                                   | アイカツアカデミー！配信部 | 2025-03-30 00:00:00 |\n"
          ]
        }
      ],
      "source": [
        "def top_popular_songs(df, top_n=5):\n",
        "    return df[['name', 'artist', 'popularity']].drop_duplicates().sort_values(by='popularity', ascending=False).head(top_n)\n",
        "\n",
        "def top_recent_songs(df, top_n=5):\n",
        "    return df[['name', 'artist', 'release_date']].drop_duplicates().sort_values(by='release_date', ascending=False).head(top_n)\n",
        "\n",
        "print(\"\\nTop 5 Lagu Terpopuler:\")\n",
        "print(top_popular_songs(df_cleaned, 5).to_markdown(index=False))\n",
        "\n",
        "print(\"\\nTop 5 Lagu Terbaru:\")\n",
        "print(top_recent_songs(df_cleaned, 5).to_markdown(index=False))"
      ]
    },
    {
      "cell_type": "markdown",
      "metadata": {
        "id": "2igO4D2dTvCT"
      },
      "source": [
        "## 🧠 **Jawaban : Evaluasi Business Understanding**"
      ]
    },
    {
      "cell_type": "markdown",
      "metadata": {
        "id": "1D_iC3ZsMJXf"
      },
      "source": [
        "### ✅ Apakah Model Telah Menjawab Problem Statements?\n",
        "\n",
        "Iya Tentu, Ini Hasilnya :\n",
        "\n",
        "**🔹 Problem Statement 1:** *Bagaimana memberikan rekomendasi lagu yang relevan berdasarkan fitur lagu?*\n",
        "\n",
        "✔️ Model menggunakan fitur numerik seperti `popularity` dan `duration_ms` yang telah dinormalisasi menggunakan **MinMaxScaler**. Kemudian, sistem menghitung **Cosine Similarity** antar lagu untuk mengidentifikasi kemiripan konten. Hasil rekomendasi menunjukkan lagu-lagu dengan karakteristik serupa, menjawab kebutuhan akan rekomendasi berbasis konten.\n",
        "\n",
        "**🔹 Problem Statement 2:** *Bagaimana mengevaluasi sistem rekomendasi tanpa data interaksi pengguna?*\n",
        "\n",
        "✔️ Sistem dievaluasi menggunakan metrik **Precision\\@K**, dengan pendekatan bahwa lagu dari artis yang sama dianggap relevan sebagai *proxy ground truth*. Meskipun pendekatan ini bersifat heuristik, metode ini cukup representatif sebagai evaluasi awal sebelum data eksplisit pengguna tersedia.\n",
        "\n",
        "---\n",
        "\n",
        "### 🎯 Apakah Model Telah Mencapai Tujuan? **(Goals)**\n",
        "\n",
        "✔️ Evaluasi & Insight\n",
        "📌 Evaluasi lagu: '｢ごめん｣で済むなら恋などしない'\n",
        "🎤 Artis: 白皇学院生徒会三人娘 starring 矢作紗友里＆中尾衣里＆浅野真澄\n",
        "📉 Popularity: 0\n",
        "⏱️ Durasi: 3.11 menit\n",
        "🎯 Precision@5: 0.60\n",
        "\n",
        "Hasil Evaluasi Relevan:\n",
        "![Hasil Evaluasi Relevan](img/evaluasi1.png)\n",
        "\n",
        "Evaluasi sistem rekomendasi dilakukan menggunakan metrik **Precision@5** untuk mengukur relevansi rekomendasi lagu dengan menggunakan proxy lagu dari artis yang sama.\n",
        "\n",
        "Hasil evaluasi menunjukkan bahwa sistem mencapai nilai Precision@5 sebesar **0.60**. Artinya, dari 5 lagu yang direkomendasikan, rata-rata 3 lagu termasuk dalam artis yang sama dengan lagu yang diinput, yang menandakan sistem memberikan rekomendasi dengan presisi yang cukup baik.\n",
        "\n",
        "Nilai ini menjadi indikator utama keberhasilan sistem rekomendasi dalam memenuhi tujuan bisnis untuk memberikan rekomendasi lagu yang relevan dan akurat.\n",
        "\n",
        "\n",
        "✔️ Sistem berhasil menghasilkan daftar Top-N rekomendasi lagu berdasarkan kemiripan fitur konten, selaras dengan tujuan utama proyek.\n",
        "\n",
        "✔️ Evaluasi menggunakan Precision@5 = 0.60 menunjukkan bahwa sistem mampu memberikan 3 rekomendasi relevan dari 5. Hal ini menunjukkan performa yang cukup baik, terutama pada lagu dengan popularitas nol, menandakan sistem tidak bias terhadap lagu populer.\n",
        "\n",
        "✔️ Evaluasi menggunakan Precision@K memberikan dasar kuantitatif yang jelas untuk mengukur performa sistem, serta dapat digunakan sebagai baseline pada pengembangan selanjutnya.\n",
        "\n",
        "✔️ Sistem juga mendukung skenario cold-start, karena tidak memerlukan data histori pengguna, sehingga cocok untuk pengguna baru atau lagu baru dalam sistem.\n",
        "\n",
        "\n",
        "---\n",
        "\n",
        "### 📈 Solution Approach\n",
        "\n",
        "✔️ Pendekatan **Content-Based Filtering** terbukti efektif dalam memberikan rekomendasi pada dataset ini yang berfokus pada fitur konten seperti `popularity` dan `duration_ms`.\n",
        "\n",
        "✔️ Sistem mampu meningkatkan pengalaman eksplorasi musik dengan menyarankan lagu-lagu yang memiliki karakteristik serupa, mendukung personalisasi awal tanpa memerlukan data interaksi.\n",
        "\n",
        "✔️ Solusi ini **scalable** dan dapat dikembangkan menjadi sistem hybrid di masa depan dengan menggabungkan data eksplisit pengguna seperti rating atau histori pemutaran.\n",
        "\n",
        "✔️ Proses preprocessing seperti konversi `release_date` ke tipe `datetime` membuka peluang untuk analisis tambahan berbasis waktu, seperti tren musik berdasarkan tahun rilis.\n",
        "\n",
        "---\n",
        "\n",
        "### 🧾 Kesimpulan Evaluasi\n",
        "\n",
        "Model sistem rekomendasi lagu berbasis konten yang dikembangkan telah berhasil menjawab problem statement dan mencapai goals yang ditetapkan. Evaluasi dengan **Precision\\@K** menunjukkan performa awal yang memadai untuk sistem rekomendasi tanpa data pengguna. Pendekatan ini efektif sebagai **baseline model** dan siap untuk ditingkatkan melalui pendekatan hybrid atau integrasi data pengguna ke depannya.\n",
        "\n",
        "---\n"
      ]
    }
  ],
  "metadata": {
    "colab": {
      "provenance": []
    },
    "kernelspec": {
      "display_name": "Python 3",
      "language": "python",
      "name": "python3"
    },
    "language_info": {
      "codemirror_mode": {
        "name": "ipython",
        "version": 3
      },
      "file_extension": ".py",
      "mimetype": "text/x-python",
      "name": "python",
      "nbconvert_exporter": "python",
      "pygments_lexer": "ipython3",
      "version": "3.10.0"
    }
  },
  "nbformat": 4,
  "nbformat_minor": 0
}
